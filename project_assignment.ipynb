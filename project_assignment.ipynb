{
    "cells": [
        {
            "metadata": {
                "collapsed": true
            },
            "cell_type": "markdown",
            "source": "# My Jupyter Notebook on IBM Watson Studio"
        },
        {
            "metadata": {},
            "cell_type": "markdown",
            "source": "**Vinod Kumar, Data Engineer**"
        },
        {
            "metadata": {},
            "cell_type": "markdown",
            "source": "*I am interested in data science because i love data*"
        },
        {
            "metadata": {},
            "cell_type": "markdown",
            "source": "### Below code will print Hello World"
        },
        {
            "metadata": {},
            "cell_type": "code",
            "source": "print('hello World')",
            "execution_count": 3,
            "outputs": [
                {
                    "output_type": "stream",
                    "text": "hello World\n",
                    "name": "stdout"
                }
            ]
        },
        {
            "metadata": {},
            "cell_type": "markdown",
            "source": "<li>Bulleted list</li>\n<a>www.ibm.com</a>\n<code>\nprint('This is for highlighting code')\n</code>\n"
        },
        {
            "metadata": {},
            "cell_type": "markdown",
            "source": "1. First item\n2. Second item\n3. Third item\n    - Indented item\n    - Indented item\n4. Fourth item"
        }
    ],
    "metadata": {
        "kernelspec": {
            "name": "python3",
            "display_name": "Python 3.10",
            "language": "python"
        },
        "language_info": {
            "name": "python",
            "version": "3.10.6",
            "mimetype": "text/x-python",
            "codemirror_mode": {
                "name": "ipython",
                "version": 3
            },
            "pygments_lexer": "ipython3",
            "nbconvert_exporter": "python",
            "file_extension": ".py"
        }
    },
    "nbformat": 4,
    "nbformat_minor": 1
}